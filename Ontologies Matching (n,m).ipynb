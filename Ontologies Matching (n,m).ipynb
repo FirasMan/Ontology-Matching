{
 "cells": [
  {
   "cell_type": "markdown",
   "id": "271665cc",
   "metadata": {},
   "source": [
    "###  Install required packages"
   ]
  },
  {
   "cell_type": "code",
   "execution_count": 1,
   "id": "8d34d8bf",
   "metadata": {},
   "outputs": [],
   "source": [
    "import rdflib\n",
    "import networkx as nx\n",
    "from node2vec import Node2Vec\n",
    "from sklearn.metrics.pairwise import cosine_similarity"
   ]
  },
  {
   "cell_type": "markdown",
   "id": "889bdd8b",
   "metadata": {},
   "source": [
    "###  Function to convert an OWL graph to NetworkX graph"
   ]
  },
  {
   "cell_type": "code",
   "execution_count": 2,
   "id": "327184e8",
   "metadata": {},
   "outputs": [],
   "source": [
    "def rdf_to_nx_graph(rdf_graph):\n",
    "    G = nx.Graph()\n",
    "    for subject, predicate, obj in rdf_graph:\n",
    "        G.add_node(subject)\n",
    "        G.add_node(obj)\n",
    "        G.add_edge(subject, obj, label=predicate)\n",
    "    return G"
   ]
  },
  {
   "cell_type": "markdown",
   "id": "9565157d",
   "metadata": {},
   "source": [
    "###  Paths to ontological files"
   ]
  },
  {
   "cell_type": "code",
   "execution_count": 3,
   "id": "fa092d70",
   "metadata": {},
   "outputs": [],
   "source": [
    "micro_ontology_path = \"ontology1.owl\"\n",
    "linklings_ontology_path = \"ontology2.owl\""
   ]
  },
  {
   "cell_type": "markdown",
   "id": "801095f9",
   "metadata": {},
   "source": [
    "### Create RDF graphs for ontologies"
   ]
  },
  {
   "cell_type": "code",
   "execution_count": 4,
   "id": "4216e6b6",
   "metadata": {},
   "outputs": [],
   "source": [
    "micro_ontology = rdflib.Graph()\n",
    "linklings_ontology = rdflib.Graph()"
   ]
  },
  {
   "cell_type": "markdown",
   "id": "9913f23c",
   "metadata": {},
   "source": [
    "### Load and analyze ontologies from OWL files (in RDF/XML format)"
   ]
  },
  {
   "cell_type": "code",
   "execution_count": 5,
   "id": "9058d34f",
   "metadata": {},
   "outputs": [
    {
     "data": {
      "text/plain": [
       "<Graph identifier=Neeb38b7605de4748bf13ba72f2b53574 (<class 'rdflib.graph.Graph'>)>"
      ]
     },
     "execution_count": 5,
     "metadata": {},
     "output_type": "execute_result"
    }
   ],
   "source": [
    "micro_ontology.parse(micro_ontology_path, format=\"xml\")\n",
    "linklings_ontology.parse(linklings_ontology_path, format=\"xml\")"
   ]
  },
  {
   "cell_type": "markdown",
   "id": "ff9a1cda",
   "metadata": {},
   "source": [
    "### Convert from ontologies to Networkx graphs"
   ]
  },
  {
   "cell_type": "code",
   "execution_count": 6,
   "id": "998d7d19",
   "metadata": {},
   "outputs": [],
   "source": [
    "micro_nx_graph = rdf_to_nx_graph(micro_ontology)\n",
    "linklings_nx_graph = rdf_to_nx_graph(linklings_ontology)"
   ]
  },
  {
   "cell_type": "markdown",
   "id": "72fa5dc2",
   "metadata": {},
   "source": [
    "### Create Node2vec models for the two graphs"
   ]
  },
  {
   "cell_type": "code",
   "execution_count": 7,
   "id": "831a812e",
   "metadata": {},
   "outputs": [
    {
     "data": {
      "application/vnd.jupyter.widget-view+json": {
       "model_id": "22d30e6a853845f6bad79822e5f533f0",
       "version_major": 2,
       "version_minor": 0
      },
      "text/plain": [
       "Computing transition probabilities:   0%|          | 0/136 [00:00<?, ?it/s]"
      ]
     },
     "metadata": {},
     "output_type": "display_data"
    },
    {
     "data": {
      "application/vnd.jupyter.widget-view+json": {
       "model_id": "b928265e20db4cdba4d963b0519de342",
       "version_major": 2,
       "version_minor": 0
      },
      "text/plain": [
       "Computing transition probabilities:   0%|          | 0/205 [00:00<?, ?it/s]"
      ]
     },
     "metadata": {},
     "output_type": "display_data"
    }
   ],
   "source": [
    "node2vec_model_micro = Node2Vec(micro_nx_graph, dimensions=64, walk_length=30, num_walks=200, workers=4)\n",
    "node2vec_model_linklings = Node2Vec(linklings_nx_graph, dimensions=64, walk_length=30, num_walks=200, workers=4)"
   ]
  },
  {
   "cell_type": "markdown",
   "id": "c983d47e",
   "metadata": {},
   "source": [
    "### Generate the embeddings for the nodes of the two graphs"
   ]
  },
  {
   "cell_type": "code",
   "execution_count": 8,
   "id": "52a7886d",
   "metadata": {},
   "outputs": [],
   "source": [
    "embeddings_micro = node2vec_model_micro.fit(window=10, min_count=1, batch_words=4)\n",
    "embeddings_linklings = node2vec_model_linklings.fit(window=10, min_count=1, batch_words=4)"
   ]
  },
  {
   "cell_type": "markdown",
   "id": "d6349196",
   "metadata": {},
   "source": [
    "### Measure the similarity between micro and linklings vectors (example of cosine similarity)"
   ]
  },
  {
   "cell_type": "code",
   "execution_count": 9,
   "id": "a36c0b93",
   "metadata": {},
   "outputs": [],
   "source": [
    "similarities = cosine_similarity(embeddings_micro.wv.vectors, embeddings_linklings.wv.vectors)"
   ]
  },
  {
   "cell_type": "markdown",
   "id": "f6f3b427",
   "metadata": {},
   "source": [
    "### Show the similarity matrix divide into two classes. Complex match (n, m)"
   ]
  },
  {
   "cell_type": "code",
   "execution_count": 10,
   "id": "d9a92125",
   "metadata": {},
   "outputs": [
    {
     "name": "stdout",
     "output_type": "stream",
     "text": [
      "\n",
      "Similarity matrix between micro and linklings vectors:\n",
      "[[-0.1399865   0.02260146  0.07209042 ... -0.04796334  0.05942156\n",
      "   0.2130788 ]\n",
      " [-0.01146752  0.15662952 -0.103155   ...  0.16304547 -0.12799382\n",
      "  -0.05843265]\n",
      " [-0.0160518   0.1366581  -0.22955324 ... -0.16813566 -0.13405496\n",
      "  -0.18371838]\n",
      " ...\n",
      " [-0.06704433 -0.10639544  0.09555212 ... -0.01297597  0.07766649\n",
      "   0.16425095]\n",
      " [ 0.18679337  0.2548368   0.05702506 ... -0.06764852 -0.00329821\n",
      "  -0.0865524 ]\n",
      " [ 0.00813378  0.16787934 -0.06826946 ... -0.08552527  0.05997662\n",
      "   0.16099083]]\n"
     ]
    }
   ],
   "source": [
    "print(\"\\nSimilarity matrix between micro and linklings vectors:\")\n",
    "print(similarities)"
   ]
  }
 ],
 "metadata": {
  "kernelspec": {
   "display_name": "Python 3 (ipykernel)",
   "language": "python",
   "name": "python3"
  },
  "language_info": {
   "codemirror_mode": {
    "name": "ipython",
    "version": 3
   },
   "file_extension": ".py",
   "mimetype": "text/x-python",
   "name": "python",
   "nbconvert_exporter": "python",
   "pygments_lexer": "ipython3",
   "version": "3.9.16"
  }
 },
 "nbformat": 4,
 "nbformat_minor": 5
}
